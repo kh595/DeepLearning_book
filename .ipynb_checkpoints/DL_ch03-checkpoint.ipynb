{
 "cells": [
  {
   "cell_type": "code",
   "execution_count": 1,
   "metadata": {
    "collapsed": true
   },
   "outputs": [],
   "source": [
    "import pandas as pd\n",
    "import numpy as np\n",
    "import matplotlib.pyplot as plt\n",
    "%matplotlib inline"
   ]
  },
  {
   "cell_type": "markdown",
   "metadata": {},
   "source": [
    "## 4.3. Grandient-Based Optimization\n",
    "## 4.3.1. Beyon the Gradient : Jacobian and Hessian Matrices\n",
    "\n",
    "### [second-order Taylor series approximation]\n",
    "<center> $ f(x)\\ \\approx \\ f(x^{(0)}) + (x-x^{(0)})^Tg + \\cfrac{1}{2}(x-x^{(0)})^TH(x-x^{(0)}) $ <center>\n",
    "<center> $ f(x^{(0)}-\\epsilon g) \\ \\approx \\ f(x^{(0)}) -\\epsilon g^Tg + \\cfrac{1}{2}\\epsilon^2g^THg $"
   ]
  },
  {
   "cell_type": "code",
   "execution_count": null,
   "metadata": {
    "collapsed": true
   },
   "outputs": [],
   "source": []
  }
 ],
 "metadata": {
  "kernelspec": {
   "display_name": "Python 3",
   "language": "python",
   "name": "python3"
  },
  "language_info": {
   "codemirror_mode": {
    "name": "ipython",
    "version": 3
   },
   "file_extension": ".py",
   "mimetype": "text/x-python",
   "name": "python",
   "nbconvert_exporter": "python",
   "pygments_lexer": "ipython3",
   "version": "3.6.3"
  }
 },
 "nbformat": 4,
 "nbformat_minor": 2
}
